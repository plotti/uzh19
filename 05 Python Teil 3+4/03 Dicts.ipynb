{
  "cells": [
    {
      "cell_type": "markdown",
      "source": [
        "## Dictionaries in Python\n",
        "\n",
        "Dictionaries sind unglaublich praktisch, damit kannst du z. B. folgendes machen:\n",
        "\n",
        "- Du kannst Wertezuordnungen speichern (z.B. Telefonbuch: Ein Nachname hat eine Telefonnummer).\n",
        "- Du kannst nachträglich Elemente verändern / entfernen / hinzufügen.\n",
        "- Dictionaries brauchst du wirklich immer wieder...\n",
        "\nMachen wir mal ein Beispiel..."
      ],
      "metadata": {}
    },
    {
      "cell_type": "code",
      "source": [
        "d = {\"Berlin\": \"BER\", \"Helsinki\": \"HEL\", \"Saigon\": \"SGN\"}"
      ],
      "outputs": [],
      "execution_count": 1,
      "metadata": {}
    },
    {
      "cell_type": "code",
      "source": [
        "print(d)"
      ],
      "outputs": [
        {
          "output_type": "stream",
          "name": "stdout",
          "text": [
            "{'Berlin': 'BER', 'Helsinki': 'HEL', 'Saigon': 'SGN'}\n"
          ]
        }
      ],
      "execution_count": 4,
      "metadata": {}
    },
    {
      "cell_type": "markdown",
      "source": [
        "Zugriff auf ein einzelnes Element:"
      ],
      "metadata": {}
    },
    {
      "cell_type": "code",
      "source": [
        "print(d[\"Helsinki\"])"
      ],
      "outputs": [
        {
          "output_type": "stream",
          "name": "stdout",
          "text": [
            "HEL\n"
          ]
        }
      ],
      "execution_count": 6,
      "metadata": {}
    },
    {
      "cell_type": "markdown",
      "source": [
        "Hiermit überschreibst du ein einzelnes Element:"
      ],
      "metadata": {}
    },
    {
      "cell_type": "code",
      "source": [
        "d[\"Budapest\"] = \"BUD\""
      ],
      "outputs": [],
      "execution_count": 7,
      "metadata": {
        "collapsed": true
      }
    },
    {
      "cell_type": "code",
      "source": [
        "print(d)"
      ],
      "outputs": [
        {
          "output_type": "stream",
          "name": "stdout",
          "text": [
            "{'Berlin': 'BER', 'Helsinki': 'HEL', 'Saigon': 'SGN', 'Budapest': 'BUD'}\n"
          ]
        }
      ],
      "execution_count": 8,
      "metadata": {}
    },
    {
      "cell_type": "markdown",
      "source": [
        "## Übung"
      ],
      "metadata": {}
    },
    {
      "cell_type": "markdown",
      "source": [
        "Legt ein eigenes Dict für die schweiz an mit den Flughäfen und den Abkürzungen. "
      ],
      "metadata": {}
    },
    {
      "cell_type": "markdown",
      "source": [
        "## Element entfernen"
      ],
      "metadata": {}
    },
    {
      "cell_type": "code",
      "source": [
        "del d[\"Budapest\"]"
      ],
      "outputs": [],
      "execution_count": 9,
      "metadata": {
        "collapsed": true
      }
    },
    {
      "cell_type": "code",
      "source": [
        "print(d)"
      ],
      "outputs": [
        {
          "output_type": "stream",
          "name": "stdout",
          "text": [
            "{'Berlin': 'BER', 'Helsinki': 'HEL', 'Saigon': 'SGN'}\n"
          ]
        }
      ],
      "execution_count": 10,
      "metadata": {}
    },
    {
      "cell_type": "markdown",
      "source": [
        "## Abfrage: Ist ein Element im Dictionary?"
      ],
      "metadata": {}
    },
    {
      "cell_type": "code",
      "source": [
        "if \"Budapest\" in d:\n",
        "    print(\"Budapest ist im Dictionary enthalten\")\n",
        "if \"Saigon\" in d:\n",
        "    print(\"Saigon ist im Dicionary enthalten\")"
      ],
      "outputs": [
        {
          "output_type": "stream",
          "name": "stdout",
          "text": [
            "Saigon ist im Dicionary enthalten\n"
          ]
        }
      ],
      "execution_count": 11,
      "metadata": {}
    },
    {
      "cell_type": "markdown",
      "source": [
        "## Auf Elemente zugreifen..."
      ],
      "metadata": {}
    },
    {
      "cell_type": "code",
      "source": [
        "print(d[\"Saigon\"])\n",
        "print(d.get(\"Saigon\"))"
      ],
      "outputs": [
        {
          "output_type": "stream",
          "name": "stdout",
          "text": [
            "SGN\n",
            "SGN\n"
          ]
        }
      ],
      "execution_count": 16,
      "metadata": {}
    },
    {
      "cell_type": "markdown",
      "source": [
        "Warum sollte man get nutzen? Man kann doch auch einfach so drauf zugraifen? Die Lösung ist einfach aber sehr praktisch. Fehlertoleranz."
      ],
      "metadata": {}
    },
    {
      "cell_type": "code",
      "source": [
        "print(d[\"Budapest\"])"
      ],
      "outputs": [
        {
          "output_type": "error",
          "ename": "KeyError",
          "evalue": "'Budapest'",
          "traceback": [
            "\u001b[0;31m---------------------------------------------------------------------------\u001b[0m",
            "\u001b[0;31mKeyError\u001b[0m                                  Traceback (most recent call last)",
            "\u001b[0;32m<ipython-input-18-9a8194eb0769>\u001b[0m in \u001b[0;36m<module>\u001b[0;34m()\u001b[0m\n\u001b[0;32m----> 1\u001b[0;31m \u001b[0mprint\u001b[0m\u001b[0;34m(\u001b[0m\u001b[0md\u001b[0m\u001b[0;34m[\u001b[0m\u001b[0;34m\"Budapest\"\u001b[0m\u001b[0;34m]\u001b[0m\u001b[0;34m)\u001b[0m\u001b[0;34m\u001b[0m\u001b[0m\n\u001b[0m",
            "\u001b[0;31mKeyError\u001b[0m: 'Budapest'"
          ]
        }
      ],
      "execution_count": 18,
      "metadata": {}
    },
    {
      "cell_type": "code",
      "source": [
        "print(d.get(\"Budapest\"))"
      ],
      "outputs": [
        {
          "output_type": "stream",
          "name": "stdout",
          "text": [
            "None\n"
          ]
        }
      ],
      "execution_count": 19,
      "metadata": {
        "scrolled": true
      }
    },
    {
      "cell_type": "markdown",
      "source": [
        "## Dictionaries und Schleifen\n",
        "\n",
        "Du hast bei Dictionaries 2 Möglichkeiten, diese mit einer for - Schleife durchzugehen.\n",
        "\nEntweder direkt, dann gehst du die Schlüssel durch:"
      ],
      "metadata": {}
    },
    {
      "cell_type": "code",
      "source": [
        "d = {\"München\": \"MUC\", \"Budapest\": \"BUD\", \"Helsinki\": \"HEL\"}\n",
        "\n",
        "for key in d: \n",
        "    value = d[key]\n",
        "    print(key)\n",
        "    print(value)"
      ],
      "outputs": [
        {
          "output_type": "stream",
          "name": "stdout",
          "text": [
            "München\n",
            "MUC\n",
            "Budapest\n",
            "BUD\n",
            "Helsinki\n",
            "HEL\n"
          ]
        }
      ],
      "execution_count": 5,
      "metadata": {}
    },
    {
      "cell_type": "markdown",
      "source": [
        "Oder über die .items() - Methode, damit kannst du Schlüssel + Wert direkt durchgehen:"
      ],
      "metadata": {}
    },
    {
      "cell_type": "code",
      "source": [
        "for key, value in d.items():\n",
        "    print(key + \": \" + value)"
      ],
      "outputs": [
        {
          "output_type": "stream",
          "name": "stdout",
          "text": [
            "München: MUC\n",
            "Budapest: BUD\n",
            "Helsinki: HEL\n"
          ]
        }
      ],
      "execution_count": 8,
      "metadata": {
        "scrolled": true
      }
    },
    {
      "cell_type": "markdown",
      "source": [
        "## Übung \n",
        "Wie oft kommt jedes Wort in der liste vor?"
      ],
      "metadata": {}
    },
    {
      "cell_type": "code",
      "source": [
        "liste = [\"Hallo\", \"Hallo\", \"Welt\", \"Hallo\", \"Mars\"]\n",
        "\n",
        "#d = {}\n",
        "#for element in liste:\n",
        "# dein code hier \n",
        "\n#print(d)"
      ],
      "outputs": [],
      "execution_count": 5,
      "metadata": {}
    }
  ],
  "metadata": {
    "kernelspec": {
      "name": "python3",
      "language": "python",
      "display_name": "Python 3"
    },
    "language_info": {
      "mimetype": "text/x-python",
      "nbconvert_exporter": "python",
      "name": "python",
      "pygments_lexer": "ipython2",
      "version": "2.7.10",
      "file_extension": ".py",
      "codemirror_mode": {
        "version": 2,
        "name": "ipython"
      }
    },
    "kernel_info": {
      "name": "python3"
    },
    "nteract": {
      "version": "0.12.3"
    }
  },
  "nbformat": 4,
  "nbformat_minor": 2
}