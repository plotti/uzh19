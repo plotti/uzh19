{
  "cells": [
    {
      "cell_type": "markdown",
      "source": [
        "# Zeit und Datum"
      ],
      "metadata": {}
    },
    {
      "cell_type": "markdown",
      "source": [
        "Das Modul **datetime** stellt Zeit- und Datumsfunktionen bereit."
      ],
      "metadata": {}
    },
    {
      "cell_type": "markdown",
      "source": [
        "#### Modul einbinden"
      ],
      "metadata": {}
    },
    {
      "cell_type": "code",
      "source": [
        "import datetime"
      ],
      "outputs": [],
      "execution_count": 2,
      "metadata": {}
    },
    {
      "cell_type": "markdown",
      "source": [
        "## Zeit addieren"
      ],
      "metadata": {}
    },
    {
      "cell_type": "code",
      "source": [
        "from datetime import datetime, timedelta"
      ],
      "outputs": [],
      "execution_count": 36,
      "metadata": {
        "collapsed": true
      }
    },
    {
      "cell_type": "code",
      "source": [
        "now = datetime.now()\n",
        "\n",
        "print(now)\n",
        "print(now + timedelta(days = 20, hours = 4, minutes = 3, seconds = 1))"
      ],
      "outputs": [
        {
          "output_type": "stream",
          "name": "stdout",
          "text": [
            "2017-11-08 08:00:27.005140\n",
            "2017-11-28 12:03:28.005140\n"
          ]
        }
      ],
      "execution_count": 37,
      "metadata": {}
    },
    {
      "cell_type": "markdown",
      "source": [
        "## Nur Teile des Datums verwenden"
      ],
      "metadata": {}
    },
    {
      "cell_type": "code",
      "source": [
        "day = datetime(2017, 8, 20, 20, 0, 0)\n",
        "\n",
        "print(day)\n",
        "print(day.year)"
      ],
      "outputs": [
        {
          "output_type": "stream",
          "name": "stdout",
          "text": [
            "2017-08-20 20:00:00\n",
            "2017\n"
          ]
        }
      ],
      "execution_count": 38,
      "metadata": {}
    },
    {
      "cell_type": "markdown",
      "source": [
        "## Zeit und Datum anlegen"
      ],
      "metadata": {}
    },
    {
      "cell_type": "code",
      "source": [
        "from datetime import date, time"
      ],
      "outputs": [],
      "execution_count": 39,
      "metadata": {
        "collapsed": true
      }
    },
    {
      "cell_type": "code",
      "source": [
        "d = date(2017, 8, 20)\n",
        "print(d)\n",
        "\n",
        "t = time(20, 1, 4)\n",
        "print(t)"
      ],
      "outputs": [
        {
          "output_type": "stream",
          "name": "stdout",
          "text": [
            "2017-08-20\n",
            "20:01:04\n"
          ]
        }
      ],
      "execution_count": 40,
      "metadata": {}
    },
    {
      "cell_type": "markdown",
      "source": [
        "## Zeit in Strings parsen"
      ],
      "metadata": {}
    },
    {
      "cell_type": "code",
      "source": [
        "from datetime import datetime\n",
        "datetime_object = datetime.strptime('Jun 1 2005  11:33', '%b %d %Y %H:%M')\n",
        "datetime_object"
      ],
      "outputs": [
        {
          "output_type": "execute_result",
          "execution_count": 7,
          "data": {
            "text/plain": [
              "datetime.datetime(2005, 6, 1, 11, 33)"
            ]
          },
          "metadata": {}
        }
      ],
      "execution_count": 7,
      "metadata": {}
    },
    {
      "cell_type": "markdown",
      "source": [
        "#### Weitere Infos:\n",
        "https://docs.python.org/3/library/datetime.html"
      ],
      "metadata": {}
    },
    {
      "cell_type": "markdown",
      "source": [
        "## Übung\n",
        "- Überführt folgenden string in ein Datum das Python versteht."
      ],
      "metadata": {
        "collapsed": false,
        "outputHidden": false,
        "inputHidden": false
      }
    },
    {
      "cell_type": "code",
      "source": [
        "my_datum = \"11:27 23.08.1998\"\n",
        "#hier muss euer code hin"
      ],
      "outputs": [],
      "execution_count": 3,
      "metadata": {
        "collapsed": false,
        "outputHidden": false,
        "inputHidden": false
      }
    },
    {
      "cell_type": "markdown",
      "source": [
        "## Datumswerte ausgeben\n",
        "\n",
        "- Es ist sehr praktisch, wie du Datumswerte korrekt ausgeben kannst.\n",
        "\nDokumentation: https://docs.python.org/3/library/datetime.html#strftime-strptime-behavior"
      ],
      "metadata": {}
    },
    {
      "cell_type": "code",
      "source": [
        "from datetime import datetime\n",
        "\nnow = datetime.now()"
      ],
      "outputs": [],
      "execution_count": 8,
      "metadata": {}
    },
    {
      "cell_type": "code",
      "source": [
        "print(now)"
      ],
      "outputs": [
        {
          "output_type": "stream",
          "name": "stdout",
          "text": [
            "2018-09-09 14:17:47.389554\n"
          ]
        }
      ],
      "execution_count": 9,
      "metadata": {
        "scrolled": true
      }
    },
    {
      "cell_type": "code",
      "source": [
        "print(now.strftime(\"%d.%m.%Y\"))\n",
        "print(now.strftime(\"%Y-%m-%d\"))\n",
        "print(now.strftime(\"%Y%m%d\"))"
      ],
      "outputs": [
        {
          "output_type": "stream",
          "name": "stdout",
          "text": [
            "09.09.2018\n",
            "2018-09-09\n",
            "20180909\n"
          ]
        }
      ],
      "execution_count": 10,
      "metadata": {}
    },
    {
      "cell_type": "markdown",
      "source": [
        "## Übung\n",
        "Gebt das datum folgendermaßen zurück: \"23 Juni 2018\""
      ],
      "metadata": {
        "collapsed": false,
        "outputHidden": false,
        "inputHidden": false
      }
    },
    {
      "cell_type": "code",
      "source": [
        "from datetime import date, time\n",
        "datum = date(2018, 6, 23)\n",
        "#hier muss euer code hin"
      ],
      "outputs": [],
      "execution_count": 6,
      "metadata": {}
    }
  ],
  "metadata": {
    "kernelspec": {
      "name": "python3",
      "language": "python",
      "display_name": "Python 3"
    },
    "language_info": {
      "mimetype": "text/x-python",
      "nbconvert_exporter": "python",
      "name": "python",
      "pygments_lexer": "ipython2",
      "version": "2.7.10",
      "file_extension": ".py",
      "codemirror_mode": {
        "version": 2,
        "name": "ipython"
      }
    },
    "kernel_info": {
      "name": "python3"
    },
    "nteract": {
      "version": "0.12.3"
    }
  },
  "nbformat": 4,
  "nbformat_minor": 2
}