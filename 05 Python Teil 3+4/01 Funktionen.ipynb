{
  "cells": [
    {
      "cell_type": "markdown",
      "source": [
        "# Funktionen\n",
        "Funktionen sind zusammengefasste Codeblöcke. Mittels Funktionen können wir es vermeiden, mehrmals verwendete Codeblöcke zu wiederholen. Wir definieren stattdessen einmal eine Funktion, die diese Codeblöcke enthält und brauchen an weiteren Stellen nur noch (kurz) die Funktion aufzurufen, ohne die in ihr enthaltenen Codezeilen zu kopieren."
      ],
      "metadata": {}
    },
    {
      "cell_type": "markdown",
      "source": [
        "### Eine Funktion definieren und aufrufen\n",
        "Wir haben schon einige Funktionen kennengelernt, die uns Python zur Verfügung stellt. Die Funktion, die wir bislang wohl am häufigsten verwendet haben, ist die print-Funktion:"
      ],
      "metadata": {}
    },
    {
      "cell_type": "code",
      "source": [
        "print(\"HALLO WELT\")"
      ],
      "outputs": [
        {
          "output_type": "stream",
          "name": "stdout",
          "text": [
            "HALLO WELT\n"
          ]
        }
      ],
      "execution_count": 1,
      "metadata": {}
    },
    {
      "cell_type": "markdown",
      "source": [
        "P.S. Eine Übersicht über Funktionen in Python findest du hier: https://docs.python.org/3/library/functions.html"
      ],
      "metadata": {}
    },
    {
      "cell_type": "markdown",
      "source": [
        "### Weitere Funktionen in Python"
      ],
      "metadata": {}
    },
    {
      "cell_type": "markdown",
      "source": [
        "Auch die len-Funktion für Listen kennst du schon. :-) "
      ],
      "metadata": {}
    },
    {
      "cell_type": "code",
      "source": [
        "print(len([\"Hallo\", \"Welt\"]))"
      ],
      "outputs": [
        {
          "output_type": "stream",
          "name": "stdout",
          "text": [
            "2\n"
          ]
        }
      ],
      "execution_count": 1,
      "metadata": {
        "scrolled": true
      }
    },
    {
      "cell_type": "markdown",
      "source": [
        "Du kannst die len-Funktion auch auf Strings anwenden."
      ],
      "metadata": {}
    },
    {
      "cell_type": "code",
      "source": [
        "print(len(\"Hallo\"))"
      ],
      "outputs": [
        {
          "output_type": "stream",
          "name": "stdout",
          "text": [
            "5\n"
          ]
        }
      ],
      "execution_count": 2,
      "metadata": {}
    },
    {
      "cell_type": "code",
      "source": [
        "def multi_print():\n",
        "    print(\"Hallo Welt!\")\n",
        "    print(\"Hallo Welt!\")"
      ],
      "outputs": [],
      "execution_count": 4,
      "metadata": {
        "collapsed": true
      }
    },
    {
      "cell_type": "markdown",
      "source": [
        "Wenn wir eine eigene Funktion verwenden wollen, müssen wir sie zuerst definieren. Eine solche Funktionsdefinition hat die allgemeine Syntax:\n",
        "\n",
        "**def Funktionname():**\n",
        "<br>\n",
        "&nbsp;&nbsp;&nbsp;&nbsp;&nbsp;&nbsp; **Code**"
      ],
      "metadata": {}
    },
    {
      "cell_type": "markdown",
      "source": [
        "Um eine Funktion auszuführen, die definiert wurde, schreiben wir: **Funktionname()**"
      ],
      "metadata": {}
    },
    {
      "cell_type": "code",
      "source": [
        "multi_print()"
      ],
      "outputs": [
        {
          "output_type": "stream",
          "name": "stdout",
          "text": [
            "Hallo Welt!\n",
            "Hallo Welt!\n"
          ]
        }
      ],
      "execution_count": 5,
      "metadata": {}
    },
    {
      "cell_type": "markdown",
      "source": [
        "### Funktionen mit einem Argument\n",
        "Man kann Funktionen ein **Argument** übergeben, d. h. einen Wert, von dem der Code innerhalb der Funktion abhängt:\n",
        "\n\n",
        "**def Funktionsname(Argument):**\n",
        "<br>\n",
        "&nbsp;&nbsp;&nbsp;&nbsp;&nbsp;&nbsp; **Code, in dem mit dem spezifischen Argument gearbeitet wird**"
      ],
      "metadata": {}
    },
    {
      "cell_type": "code",
      "source": [
        "def multi_print2(name):\n",
        "    print(name)\n",
        "    print(name)\n",
        "    \n",
        "multi_print2(\"HALLO\")\n",
        "multi_print2(\"WELT\")"
      ],
      "outputs": [
        {
          "output_type": "stream",
          "name": "stdout",
          "text": [
            "HALLO\n",
            "HALLO\n",
            "WELT\n",
            "WELT\n"
          ]
        }
      ],
      "execution_count": 6,
      "metadata": {}
    },
    {
      "cell_type": "markdown",
      "source": [
        "### Funktionen mit mehreren Argumenten\n",
        "\n",
        "Eine Funktion darf auch mehrere Argumente enthalten:\n",
        "\n",
        "**def Funktionenname(Argument1, Argument2, ...):**\n",
        "<br>\n",
        "&nbsp;&nbsp;&nbsp;&nbsp;&nbsp;&nbsp; **Code, in dem mit Argument1, Argument2,... gearbeitet wird**"
      ],
      "metadata": {}
    },
    {
      "cell_type": "code",
      "source": [
        "def multi_print(name, count):\n",
        "    for i in range(0, count):\n",
        "        print(name)\n",
        "        \n",
        "multi_print(\"Hallo!\", 5)"
      ],
      "outputs": [
        {
          "output_type": "stream",
          "name": "stdout",
          "text": [
            "Hallo!\n",
            "Hallo!\n",
            "Hallo!\n",
            "Hallo!\n",
            "Hallo!\n"
          ]
        }
      ],
      "execution_count": 1,
      "metadata": {
        "scrolled": true
      }
    },
    {
      "cell_type": "markdown",
      "source": [
        "Du kannst dir einen solchen Parameter als eine zu einer Funktion gehörige Variable vorstellen. Vermeide es, einen Funktionsparameter wie eine bereits bestehende Variable zu benennen - Verwirrungsgefahr!"
      ],
      "metadata": {}
    },
    {
      "cell_type": "markdown",
      "source": [
        "### Funktionen und Gültigkeit von Variablen"
      ],
      "metadata": {}
    },
    {
      "cell_type": "code",
      "source": [
        "name = \"MARS\"\n",
        "planet = \"MARS\"\n",
        "\n",
        "def hallo(name):\n",
        "    print(\"Hallo\" + name)\n",
        "    \n",
        "hallo(\"Plotti\")\n",
        "\nprint(name)"
      ],
      "outputs": [
        {
          "output_type": "stream",
          "name": "stdout",
          "text": [
            "MARS\n",
            "HalloPlotti\n",
            "MARS\n"
          ]
        }
      ],
      "execution_count": 8,
      "metadata": {}
    },
    {
      "cell_type": "markdown",
      "source": [
        "Du siehst, dass der Wert der Variable _name_ keinen Einfluss auf das Argument _name_ der Funktion hat! Die Variable _name_ außerhalb der Funktion ist also eine andere Variable als die Variable _name_ innerhalb der Funktion. \n",
        "\nDaher Achtung: Das macht den Code unübersichtlich!"
      ],
      "metadata": {}
    },
    {
      "cell_type": "markdown",
      "source": [
        "## Übung\n",
        "\n",
        "Schreibe eine Funktion, die den Gesamtpreis der Produkte im Warenkorb berechnet!\n",
        "Vervollständige die Funktion list_sum(), der als Parameter eine Liste mit den Preisen übergeben wird. Die Funktion soll dann die Summe der Zahlen aus der Liste ausgeben."
      ],
      "metadata": {}
    },
    {
      "cell_type": "code",
      "source": [
        "cart_prices = [20, 3.5, 6.49, 8.99, 9.99, 14.98]\n",
        "\n",
        "def list_sum(l):\n",
        "    # hier kommt dein Code hin\n",
        "    print(\"Hier kommt dein Code hin\")\n",
        "    \n",
        "list_sum(cart_prices)\n",
        "        "
      ],
      "outputs": [
        {
          "output_type": "stream",
          "name": "stdout",
          "text": [
            "Hier kommt dein Code hin\n"
          ]
        }
      ],
      "execution_count": 2,
      "metadata": {}
    },
    {
      "cell_type": "markdown",
      "source": [
        "### Funktionen in Funktionen\n",
        "Funktionen können auch ineinander geschachtelt werden:"
      ],
      "metadata": {}
    },
    {
      "cell_type": "code",
      "source": [
        "def multi_print(text,anzahl):\n",
        "    for i in range(0,anzahl):\n",
        "        print(text)\n",
        "        \n",
        "def super_begruessung():\n",
        "    multi_print(\"Hallo!\", 3)\n",
        "    multi_print(\"Welt!\", 3)"
      ],
      "outputs": [],
      "execution_count": 13,
      "metadata": {}
    },
    {
      "cell_type": "code",
      "source": [
        "super_begruessung()"
      ],
      "outputs": [
        {
          "output_type": "stream",
          "name": "stdout",
          "text": [
            "Hallo!\n",
            "Hallo!\n",
            "Hallo!\n",
            "Welt!\n",
            "Welt!\n",
            "Welt!\n"
          ]
        }
      ],
      "execution_count": 14,
      "metadata": {
        "scrolled": true
      }
    },
    {
      "cell_type": "markdown",
      "source": [
        "### Einen Wert zurückgeben\n",
        "Bislang führen wir mit Funktionen einen Codeblock aus, der von Argumenten abhängen kann. Funktionen können aber auch mittels des Befehls **return** Werte zurückgeben. "
      ],
      "metadata": {}
    },
    {
      "cell_type": "code",
      "source": [
        "def return_element(name):\n",
        "    return name\n",
        "\nprint(return_element(\"Hi\"))"
      ],
      "outputs": [
        {
          "output_type": "stream",
          "name": "stdout",
          "text": [
            "Hi\n"
          ]
        }
      ],
      "execution_count": 2,
      "metadata": {
        "scrolled": true
      }
    },
    {
      "cell_type": "markdown",
      "source": [
        "Solche Funktionen mit return können wir dann wie Variablen behandeln:"
      ],
      "metadata": {}
    },
    {
      "cell_type": "code",
      "source": [
        "def return_with_exclamation(name):\n",
        "    return name + \"!\"\n",
        "\n",
        "a = return_with_exclamation(\"Hi\")\n",
        "\n",
        "if a == \"Hi!\":\n",
        "    print(\"Right!\")\n",
        "else:\n",
        "    print(\"Wrong.\")"
      ],
      "outputs": [
        {
          "output_type": "stream",
          "name": "stdout",
          "text": [
            "Right!\n"
          ]
        }
      ],
      "execution_count": 15,
      "metadata": {}
    },
    {
      "cell_type": "code",
      "source": [
        "def maximum(a, b):\n",
        "    if a < b:\n",
        "        return b\n",
        "    else:\n",
        "        return a\n",
        "\n",
        "result = maximum(4, 5)\n",
        "print(result)"
      ],
      "outputs": [
        {
          "output_type": "stream",
          "name": "stdout",
          "text": [
            "5\n"
          ]
        }
      ],
      "execution_count": 16,
      "metadata": {}
    },
    {
      "cell_type": "markdown",
      "source": [
        "## Übung\n",
        "\n",
        "In Amerika ist es üblich Trinkgeld zu geben. Du möchtest eine Funktion schreiben der du den Preis des Essens eingibst (price), die erhöhung in % (percent) und zurück bekommst wieviel Trinkgeld du geben kannst. \n",
        "```\n",
        "a = tipp_generator(10,0.05)\n",
        "```\n",
        "a sollte 10.05 sein."
      ],
      "metadata": {}
    },
    {
      "cell_type": "code",
      "source": [
        "def tipp_generator(price,percent):\n",
        "    # dein code hier"
      ],
      "outputs": [],
      "execution_count": 5,
      "metadata": {}
    },
    {
      "cell_type": "markdown",
      "source": [
        "# Funktionen vs. Methoden"
      ],
      "metadata": {}
    },
    {
      "cell_type": "markdown",
      "source": [
        "### Funktionen\n",
        "Bei ihrem Aufruf stehen Funktionen \"für sich\" und das, worauf sie sich beziehen steht ggf. als Argument in den Klammern hinter ihnen:"
      ],
      "metadata": {}
    },
    {
      "cell_type": "code",
      "source": [
        "liste = [1, 2, 3]"
      ],
      "outputs": [],
      "execution_count": 36,
      "metadata": {
        "collapsed": true
      }
    },
    {
      "cell_type": "code",
      "source": [
        "print(liste)"
      ],
      "outputs": [
        {
          "output_type": "stream",
          "name": "stdout",
          "text": [
            "[1, 2, 3]\n"
          ]
        }
      ],
      "execution_count": 28,
      "metadata": {
        "scrolled": true
      }
    },
    {
      "cell_type": "code",
      "source": [
        "print(len(liste))"
      ],
      "outputs": [
        {
          "output_type": "stream",
          "name": "stdout",
          "text": [
            "3\n"
          ]
        }
      ],
      "execution_count": 29,
      "metadata": {}
    },
    {
      "cell_type": "markdown",
      "source": [
        "### Methoden\n",
        "Daneben kennen wir aber auch schon Befehle, die mit einem Punkt an Objekte angehängt werden. Eine Liste ist ein solches **Objekt**. Jedes Objekt hat Methoden, auf die wir zurückgreifen können. Diese Methoden können wir aber nicht auf ein Objekt eines anderen Typs anwenden (meistens zumindest).\n",
        "\nSchauen wir uns einige nützliche Methoden des Listen-Objektes an. Zwei kennst du ja schon gut:"
      ],
      "metadata": {}
    },
    {
      "cell_type": "code",
      "source": [
        "# ein Element anhängen\n",
        "liste.append(4)\n",
        "\nprint(liste)"
      ],
      "outputs": [
        {
          "output_type": "stream",
          "name": "stdout",
          "text": [
            "[1, 2, 3, 4]\n"
          ]
        }
      ],
      "execution_count": 37,
      "metadata": {}
    },
    {
      "cell_type": "code",
      "source": [
        "# ein Element an einem bestimmten Index entfernen\n",
        "liste.pop(2)"
      ],
      "outputs": [
        {
          "output_type": "execute_result",
          "execution_count": 39,
          "data": {
            "text/plain": [
              "2"
            ]
          },
          "metadata": {}
        }
      ],
      "execution_count": 39,
      "metadata": {}
    },
    {
      "cell_type": "markdown",
      "source": [
        "# Übung"
      ],
      "metadata": {}
    },
    {
      "cell_type": "markdown",
      "source": [
        "Python objekte haben oft schon von \"Haus aus\" methoden die sehr praktisch sind. \n",
        "Finde für Listen heraus:\n",
        " - Wie kann man die Elemente einer Liste umdrehen?\n",
        " - Wie kann man rausfinden an welcher Stelle \"Max\" steht?\n",
        " - Wie kann ich \"Max\" von der Liste entfernen?\n"
      ],
      "metadata": {}
    },
    {
      "cell_type": "code",
      "source": [
        "liste = [\"Max\", \"Moritz\", \"Klara\", \"Elena\"]"
      ],
      "outputs": [],
      "execution_count": 5,
      "metadata": {}
    },
    {
      "cell_type": "markdown",
      "source": [
        "### Übung Extra: \n",
        "Wenn du noch Zeit hast: was für Methoden gibt es denn für Strings?\n",
        "- z.B. wie kann ich alle buchstaben a durch x ersetzen?\n",
        "- wie kann ich einen String in kleinbuchstaben verwandeln?\n",
        "- was gibt es noch?"
      ],
      "metadata": {}
    }
  ],
  "metadata": {
    "kernelspec": {
      "name": "python3",
      "language": "python",
      "display_name": "Python 3"
    },
    "language_info": {
      "mimetype": "text/x-python",
      "nbconvert_exporter": "python",
      "name": "python",
      "pygments_lexer": "ipython2",
      "version": "2.7.10",
      "file_extension": ".py",
      "codemirror_mode": {
        "version": 2,
        "name": "ipython"
      }
    },
    "kernel_info": {
      "name": "python3"
    },
    "nteract": {
      "version": "0.12.3"
    }
  },
  "nbformat": 4,
  "nbformat_minor": 2
}